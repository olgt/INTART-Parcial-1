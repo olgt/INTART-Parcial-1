{
 "cells": [
  {
   "cell_type": "code",
   "execution_count": null,
   "id": "b9a7df0a-ed29-4812-b78a-99a479c4b97e",
   "metadata": {},
   "outputs": [],
   "source": [
    "#Serie II"
   ]
  },
  {
   "cell_type": "code",
   "execution_count": 2,
   "id": "2716604f-c0dc-4962-b505-c21af7d1e05c",
   "metadata": {},
   "outputs": [],
   "source": [
    "#1. Crear una lista de listas llamada nueva_lista que contenga 5 registros de 3 registros cada uno (el contenido no importa).\n",
    "nueva_lista = [\n",
    "    [1,2,3,4,5],\n",
    "    [6,7,8,9,10],\n",
    "    [11,12,13,14,15],\n",
    "    [16,17,18,19,20],\n",
    "    [21,22,23,24,25]\n",
    "]"
   ]
  },
  {
   "cell_type": "code",
   "execution_count": 3,
   "id": "7c53e11e-b4bb-4f7d-ac7f-99a1ffe7686e",
   "metadata": {},
   "outputs": [
    {
     "name": "stdout",
     "output_type": "stream",
     "text": [
      "14\n"
     ]
    }
   ],
   "source": [
    "#a.Imprimir el cuarto valor del tercer registro\n",
    "print(nueva_lista[2][3])\n"
   ]
  },
  {
   "cell_type": "code",
   "execution_count": 4,
   "id": "85d72563-3f14-4807-a0fd-d8924e7a464b",
   "metadata": {},
   "outputs": [
    {
     "name": "stdout",
     "output_type": "stream",
     "text": [
      "8\n"
     ]
    }
   ],
   "source": [
    "#b.Imprimir el tercer valor del segundo registro\n",
    "print(nueva_lista[1][2])"
   ]
  },
  {
   "cell_type": "code",
   "execution_count": 5,
   "id": "2e705670-aaaf-44f8-9ace-2669d48f78f7",
   "metadata": {},
   "outputs": [],
   "source": [
    "#2. Crear una lista de diccionarios con tres diccionarios, donde cada diccionario registre los valores para curso, inscritos y aprobados.\n",
    "cursos = [\n",
    "    {\"Curso\" : [\"Mate Discreta\", \"Calculo 1\", \"Progra 3\"]},\n",
    "    {\"Inscritos\" : [[\"Juan\"], [\"John\", \"Johny\"], [\"Juan\"]]},\n",
    "    {\"Aprobados\" : [[\"Juan\"], [\"John\"], []]}\n",
    "]"
   ]
  },
  {
   "cell_type": "code",
   "execution_count": 6,
   "id": "ce2a1f24-f999-4b40-855e-da97416bcdbb",
   "metadata": {},
   "outputs": [
    {
     "name": "stdout",
     "output_type": "stream",
     "text": [
      "['Juan']\n"
     ]
    }
   ],
   "source": [
    "#Cantidad de inscritos en 3er registro\n",
    "print(cursos[1][\"Inscritos\"][2])\n"
   ]
  },
  {
   "cell_type": "code",
   "execution_count": 7,
   "id": "15e973e1-548a-4356-b34d-b407b275e816",
   "metadata": {},
   "outputs": [
    {
     "name": "stdout",
     "output_type": "stream",
     "text": [
      "[]\n"
     ]
    }
   ],
   "source": [
    "#Cantidad de aprobados en el ultimo registro\n",
    "print(cursos[2][\"Aprobados\"][2])"
   ]
  },
  {
   "cell_type": "code",
   "execution_count": 8,
   "id": "5d1ef079-94bb-4c96-930f-794ff1b1352d",
   "metadata": {},
   "outputs": [
    {
     "name": "stdout",
     "output_type": "stream",
     "text": [
      "50.0\n"
     ]
    }
   ],
   "source": [
    "#porcentaje de aprobados en el segundo registro\n",
    "calc1_inscritos_total = len(cursos[1][\"Inscritos\"][1])\n",
    "calc1_aprobados_total = len(cursos[2][\"Aprobados\"][1])\n",
    "porcentaje_aprobados_calc1 = calc1_aprobados_total/calc1_inscritos_total\n",
    "print(porcentaje_aprobados_calc1*100)"
   ]
  },
  {
   "cell_type": "code",
   "execution_count": 9,
   "id": "50bde5a5-7f12-4c52-9c56-3c73334de70f",
   "metadata": {},
   "outputs": [],
   "source": [
    "#C\n",
    "import pandas as pd"
   ]
  },
  {
   "cell_type": "code",
   "execution_count": 10,
   "id": "a855e230-eb7c-4cd3-83e3-dd06bf2af2cb",
   "metadata": {},
   "outputs": [],
   "source": [
    "nombres = pd.read_csv('nombres.csv', sep=\",\")"
   ]
  },
  {
   "cell_type": "code",
   "execution_count": 11,
   "id": "6ff67b37-40fc-4952-b32f-2096c7bfa3df",
   "metadata": {},
   "outputs": [
    {
     "name": "stdout",
     "output_type": "stream",
     "text": [
      "        state sex  year     name  quantity\n",
      "0          MO   F  1910     Mary       611\n",
      "1          MO   F  1910    Helen       313\n",
      "2          MO   F  1910  Dorothy       270\n",
      "3          MO   F  1910  Mildred       267\n",
      "4          MO   F  1910     Ruth       237\n",
      "...       ...  ..   ...      ...       ...\n",
      "5933556    KS   M  2017  Xzavier         5\n",
      "5933557    KS   M  2017     Yael         5\n",
      "5933558    KS   M  2017   Zaiden         5\n",
      "5933559    KS   M  2017     Zayn         5\n",
      "5933560    KS   M  2017     Zion         5\n",
      "\n",
      "[5933561 rows x 5 columns]\n"
     ]
    }
   ],
   "source": [
    "print(nombres)"
   ]
  },
  {
   "cell_type": "code",
   "execution_count": 12,
   "id": "8b59f3f8-4558-48b8-9666-228a78005cb7",
   "metadata": {},
   "outputs": [
    {
     "name": "stdout",
     "output_type": "stream",
     "text": [
      "True\n",
      "True\n"
     ]
    }
   ],
   "source": [
    "#¿Hay mujeres llamados Jules, Nery?\n",
    "\n",
    "consulta = nombres.query(\"sex == 'F' and name == 'Nery' or name =='Jules'\")\n",
    "\n",
    "print('Nery' in consulta['name'].unique())\n",
    "print('Jules' in consulta['name'].unique())"
   ]
  },
  {
   "cell_type": "code",
   "execution_count": 13,
   "id": "a5f254c4-a33d-4d44-8212-d861de732472",
   "metadata": {},
   "outputs": [
    {
     "name": "stdout",
     "output_type": "stream",
     "text": [
      "        state sex  year  name  quantity\n",
      "1147313    CA   F  1984  Nery         6\n",
      "1170498    CA   F  1991  Nery         6\n",
      "1240286    CA   F  2009  Nery         5\n",
      "3\n"
     ]
    }
   ],
   "source": [
    "#¿Cuál es la cantidad de mujeres llamadas Nery en el estado de CA y NJ nacidas después de 1950?\n",
    "consulta = nombres.query(\"(state == 'CA' or state == 'NJ') and sex == 'F' and name == 'Nery' and year > 1950\")\n",
    "print(consulta)\n",
    "print(consulta['name'].count())"
   ]
  },
  {
   "cell_type": "code",
   "execution_count": 14,
   "id": "e52253a1-249d-47dc-9cd6-8307d7f791da",
   "metadata": {},
   "outputs": [
    {
     "name": "stdout",
     "output_type": "stream",
     "text": [
      "promedio: 0.0011460234419095041\n",
      "5933561\n",
      "68\n"
     ]
    }
   ],
   "source": [
    "#¿Cuál es la cantidad promedio de hombres llamados Mary nacidos después de 1989?\n",
    "consulta = nombres.query(\"sex == 'M' and year > 1989 and name == 'Nery'\")\n",
    "cantidad_consulta = consulta['name'].count()\n",
    "cantidad_total = nombres['name'].count()                         \n",
    "print(\"promedio: \" + str((cantidad_consulta/cantidad_total)*100))\n",
    "print(cantidad_total)\n",
    "print(cantidad_consulta)\n"
   ]
  },
  {
   "cell_type": "code",
   "execution_count": 15,
   "id": "2a3a05f9-90e8-4d4b-8086-c9e69d090a46",
   "metadata": {},
   "outputs": [
    {
     "name": "stdout",
     "output_type": "stream",
     "text": [
      "state\n",
      "CA    77\n",
      "TX    48\n",
      "NY    36\n",
      "Name: name, dtype: int64\n"
     ]
    }
   ],
   "source": [
    "#¿Cuáles son los tres estados donde hay más mujeres llamados Nery y Alex?\n",
    "\n",
    "consulta = nombres.query(\"name == 'Nery' or name == 'Alex' and sex == 'F'\")\n",
    "estados = consulta.groupby(['state']).count()\n",
    "topEstados = estados.sort_values(by='name', ascending=False)\n",
    "\n",
    "print(topEstados[0:3]['name'])\n"
   ]
  }
 ],
 "metadata": {
  "kernelspec": {
   "display_name": "Python 3 (ipykernel)",
   "language": "python",
   "name": "python3"
  },
  "language_info": {
   "codemirror_mode": {
    "name": "ipython",
    "version": 3
   },
   "file_extension": ".py",
   "mimetype": "text/x-python",
   "name": "python",
   "nbconvert_exporter": "python",
   "pygments_lexer": "ipython3",
   "version": "3.13.2"
  }
 },
 "nbformat": 4,
 "nbformat_minor": 5
}
